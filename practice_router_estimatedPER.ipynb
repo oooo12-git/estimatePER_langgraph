{
 "cells": [
  {
   "cell_type": "code",
   "execution_count": 1,
   "metadata": {},
   "outputs": [
    {
     "data": {
      "text/plain": [
       "True"
      ]
     },
     "execution_count": 1,
     "metadata": {},
     "output_type": "execute_result"
    }
   ],
   "source": [
    "from dotenv import load_dotenv\n",
    "\n",
    "load_dotenv()"
   ]
  },
  {
   "cell_type": "code",
   "execution_count": 2,
   "metadata": {},
   "outputs": [
    {
     "name": "stdout",
     "output_type": "stream",
     "text": [
      "LangSmith 추적을 시작합니다.\n",
      "[프로젝트명]\n",
      "practice-estimated-PER\n"
     ]
    }
   ],
   "source": [
    "from langchain_teddynote import logging\n",
    "\n",
    "# 프로젝트 이름을 입력합니다.\n",
    "logging.langsmith(\"practice-estimated-PER\")"
   ]
  },
  {
   "cell_type": "code",
   "execution_count": 3,
   "metadata": {},
   "outputs": [],
   "source": [
    "from typing import Annotated, TypedDict\n",
    "from langgraph.graph.message import add_messages\n",
    "\n",
    "class GraphState(TypedDict):\n",
    "    question: Annotated[list, add_messages]\n",
    "    context: Annotated[str, \"Context\"]\n",
    "    answer: Annotated[str, \"Answer\"]\n",
    "    messages: Annotated[list, add_messages]\n",
    "    question_decomposed_1: Annotated[str, \"분해된 질문 중 1번\"]\n",
    "    question_decomposed_2: Annotated[str, \"분해된 질문 중 2번\"]\n",
    "    question_decomposed_3: Annotated[str, \"분해된 질문 중 3번\"]\n",
    "    company: Annotated[str, \"기업명\"]\n",
    "    sector: Annotated[str, \"섹터명\"]"
   ]
  },
  {
   "cell_type": "code",
   "execution_count": 4,
   "metadata": {},
   "outputs": [],
   "source": [
    "from typing import Literal\n",
    "\n",
    "from langchain_core.prompts import ChatPromptTemplate\n",
    "from pydantic import BaseModel, Field\n",
    "from langchain_openai import ChatOpenAI\n",
    "from langchain_teddynote.models import get_model_name, LLMs\n",
    "\n",
    "# 최신 LLM 모델 이름 가져오기\n",
    "MODEL_NAME = \"gpt-4o-mini\"\n",
    "\n",
    "\n",
    "# 사용자 쿼리를 가장 관련성 높은 데이터 소스로 라우팅하는 데이터 모델\n",
    "class RouteQuery(BaseModel):\n",
    "    \"\"\"Route a user query to the most relevant datasource.\"\"\"\n",
    "\n",
    "    # 데이터 소스 선택을 위한 리터럴 타입 필드\n",
    "    datasource: Literal[\"query_trans_price_pred\", \"llm\"] = Field(\n",
    "        ...,\n",
    "        description=(\n",
    "            \"Given a user question, choose to route it to either the Query Transformation service for price prediction \"\n",
    "            \"or to the Large Language Model (LLM).\"\n",
    "        ),\n",
    "    )\n",
    "\n",
    "\n",
    "# LLM 초기화 및 함수 호출을 통한 구조화된 출력 생성\n",
    "llm = ChatOpenAI(model=MODEL_NAME, temperature=0)\n",
    "structured_llm_router = llm.with_structured_output(RouteQuery)\n",
    "\n",
    "# 시스템 메시지와 사용자 질문을 포함한 프롬프트 템플릿 생성\n",
    "system = \"\"\"\n",
    "당신은 사용자 질문을 적절한 데이터 소스로 라우팅하는 역할을 맡은 라우터입니다. 다음 지침을 따라 사용자 질문을 처리하세요:\n",
    "\n",
    "1. **주가 예측 관련 질문:**\n",
    "   - 사용자가 \"주가 예측\", \"주가가 어떻게 될 것 같은지\", \"주식 가격 전망\" 등과 같은 주가 예측과 관련된 질문을 할 경우, 해당 질문을 **Query Transformation 서비스 for Price Prediction**으로 라우팅하세요.\n",
    "\n",
    "2. **기타 질문:**\n",
    "   - 사용자가 주가 예측과 관련되지 않은 다른 주제에 대한 질문을 할 경우, 해당 질문을 **Large Language Model (LLM)**으로 라우팅하세요.\n",
    "\n",
    "**예시:**\n",
    "- **사용자 질문:** \"다음 달 애플의 주가는 어떻게 될 것 같아?\"\n",
    "  - **라우팅 대상:** Query Transformation 서비스 for Price Prediction\n",
    "\n",
    "- **사용자 질문:** \"오늘 날씨가 어때?\"\n",
    "  - **라우팅 대상:** Large Language Model (LLM)\n",
    "\n",
    "- **사용자 질문:** \"비트코인 가격 예측해줘.\"\n",
    "  - **라우팅 대상:** Query Transformation 서비스 for Price Prediction\n",
    "\n",
    "- **사용자 질문:** \"좋은 레스토랑 추천해줘.\"\n",
    "  - **라우팅 대상:** Large Language Model (LLM)\n",
    "\n",
    "**주가 예측 관련 키워드:**\n",
    "- 주가 예측\n",
    "- 주가 전망\n",
    "- 주식 가격 예측\n",
    "- 주가 상승/하락 예측\n",
    "\"\"\"\n",
    "\n",
    "# Routing 을 위한 프롬프트 템플릿 생성\n",
    "route_prompt = ChatPromptTemplate.from_messages(\n",
    "    [\n",
    "        (\"system\", system),\n",
    "        (\"human\", \"{question}\"),\n",
    "    ]\n",
    ")\n",
    "\n",
    "# 프롬프트 템플릿과 구조화된 LLM 라우터를 결합하여 질문 라우터 생성\n",
    "question_router = route_prompt | structured_llm_router"
   ]
  },
  {
   "cell_type": "code",
   "execution_count": 5,
   "metadata": {},
   "outputs": [],
   "source": [
    "# print(\n",
    "#     question_router.invoke(\n",
    "#         {\"question\": \"SK 하이닉스의 주가가 어떻게 될 거 같아?\"}\n",
    "#     )\n",
    "# )"
   ]
  },
  {
   "cell_type": "code",
   "execution_count": 6,
   "metadata": {},
   "outputs": [],
   "source": [
    "# print(\n",
    "#     question_router.invoke(\n",
    "#         {\"question\": \"SK 하이닉스에 대해 설명해\"}\n",
    "#     )\n",
    "# )"
   ]
  },
  {
   "cell_type": "code",
   "execution_count": 7,
   "metadata": {},
   "outputs": [],
   "source": [
    "def route_question(state : GraphState) -> str:\n",
    "    print(\"==== [ROUTE QUESTION] ====\")\n",
    "    # 질문 가져오기\n",
    "    question = state[\"question\"]\n",
    "    # 질문 라우팅\n",
    "    source = question_router.invoke({\"question\": question})\n",
    "    # 질문 라우팅 결과에 따른 노드 라우팅\n",
    "    if source.datasource == \"query_trans_price_pred\":\n",
    "        print(\"==== [ROUTE QUESTION TO Query TRANSFORMATION FOR PRICE PREDICTION] ====\")\n",
    "        return \"query_trans_price_pred\"\n",
    "    elif source.datasource == \"llm\":\n",
    "        print(\"==== [ROUTE QUESTION TO LLM] ====\")\n",
    "        return \"llm\""
   ]
  },
  {
   "cell_type": "code",
   "execution_count": 8,
   "metadata": {},
   "outputs": [],
   "source": [
    "from langchain_core.prompts import PromptTemplate\n",
    "from langchain_core.output_parsers import StrOutputParser\n",
    "from langchain_openai import ChatOpenAI\n",
    "\n",
    "\n",
    "re_write_prompt = PromptTemplate(\n",
    "    template = \"\"\"\n",
    "Transform the given question into specific, practical analysis questions that leverage financial statements.\n",
    "\t•\tBreak down the question into smaller components that define the data required for investment decisions.\n",
    "\t•\tUtilize financial metrics (e.g., EPS, PER, ROE) from financial statements to construct a logical flow for investment analysis.\n",
    "\t•\tPreserve the intent of the original question while converting it into actionable questions for financial analysis.\n",
    "\n",
    "Output Format\n",
    "\n",
    "\t•\tPresent the transformed questions as a numbered list.\n",
    "\t•\tEach question should be actionable and analyzable using financial statements.\n",
    "\t•\tProvide only the output without additional explanation between the input and output.\n",
    "\n",
    "Example\n",
    "\n",
    "Input:\n",
    "“What do you think will happen to SK Hynix’s stock price?”\n",
    "\n",
    "Output:\n",
    "\n",
    "1.\tCalculate the fair PER of SK Hynix by analyzing the growth rates and PERs of companies in the semiconductor sector.\n",
    "2.\tEstimate next year’s EPS for SK Hynix by considering the semiconductor market conditions, macroeconomic environment, and the company’s current performance.\n",
    "3.\tMultiply the fair PER by the estimated EPS to determine the target stock price.\n",
    "\n",
    "\n",
    "Input:\n",
    "“What do you think will happen to Samsung Electronic’s stock price?”\n",
    "\n",
    "Output:\n",
    "\n",
    "1.\tCalculate the fair PER of Samsung Electronic by analyzing the growth rates and PERs of companies in the semiconductor sector.\n",
    "2.\tEstimate next year’s EPS for Samsung Electronic by considering the semiconductor market conditions, macroeconomic environment, and the company’s current performance.\n",
    "3.\tMultiply the fair PER by the estimated EPS to determine the target stock price.\n",
    "\n",
    "\n",
    "# Notes\n",
    "\n",
    "- Ensure the improved question is concise and contextually relevant.\n",
    "- Avoid altering the fundamental intent or meaning of the original question.\n",
    "\n",
    "\n",
    "[REMEMBER] Re-written question should be in the same language as the original question.\n",
    "\n",
    "# Here is the original question that needs to be rewritten:\n",
    "{question}\n",
    "\"\"\",\n",
    "input_variables=[\"question\"],\n",
    ")\n",
    "\n",
    "question_rewriter=(\n",
    "    re_write_prompt | ChatOpenAI(model=\"gpt-4o-mini\", temperature=0) | StrOutputParser()    \n",
    ")"
   ]
  },
  {
   "cell_type": "code",
   "execution_count": 9,
   "metadata": {},
   "outputs": [],
   "source": [
    "# question_rewriter.invoke({\"question\":\"SK하이닉스의 주가는 어떨거 같아?\"})"
   ]
  },
  {
   "cell_type": "code",
   "execution_count": 10,
   "metadata": {},
   "outputs": [],
   "source": [
    "# Query Rewrite 노드\n",
    "def query_rewrite(state: GraphState) -> GraphState:\n",
    "    latest_question = state[\"question\"][-1].content\n",
    "    question_rewritten = question_rewriter.invoke({\"question\": latest_question})\n",
    "    return GraphState(question=question_rewritten)"
   ]
  },
  {
   "cell_type": "code",
   "execution_count": 11,
   "metadata": {},
   "outputs": [],
   "source": [
    "def query_decomposer(state: GraphState) -> GraphState:\n",
    "    question = state[\"question\"][-1].content\n",
    "    question_1 = question.split('\\n')[0]\n",
    "    question_2 = question.split('\\n')[1]\n",
    "    question_3 = question.split('\\n')[2]\n",
    "    return GraphState(question_decomposed_1=question_1, question_decomposed_2=question_2, question_decomposed_3=question_3)"
   ]
  },
  {
   "cell_type": "code",
   "execution_count": 12,
   "metadata": {},
   "outputs": [],
   "source": [
    "find_sector_and_company_prompt = PromptTemplate(\n",
    "    template = \"\"\"\n",
    "역할:\n",
    "당신은 베테랑 프롬프트 엔지니어로, 대형 언어 모델(LLM)이 최상의 성능을 발휘할 수 있도록 프롬프트를 최적화하는 데 능숙합니다.\n",
    "\n",
    "작업:\n",
    "주어진 질문에서 언급된 회사명과 섹터를 각각 추출하여 다음 형식으로 출력하십시오.\n",
    "\n",
    "출력 형식:\n",
    "\t•\t회사명,섹터 형태로 응답하십시오.\n",
    "\t•\t회사명과 섹터 이외의 정보는 포함하지 마십시오.\n",
    "\t•\t따옴표(””)는 반드시 포함하지 말고 출력하십시오.\n",
    "\n",
    "예시:\n",
    "\n",
    "입력:\n",
    "\n",
    "\"1. DB하이텍의 공정 PER을 계산하기 위해 반도체 산업 내 유사 기업들의 성장률과 PER을 분석하라.\"\n",
    "\n",
    "출력:\n",
    "\n",
    "DB하이텍,반도체\n",
    "\n",
    "입력:\n",
    "\n",
    "\"1. 삼성전자의 PER을 계산하기 위해 반도체 산업 내 다른 기업들의 성장률과 PER을 분석하라.\"\n",
    "\n",
    "출력:\n",
    "\n",
    "삼성전자,반도체\n",
    "\n",
    "추가 예시:\n",
    "\n",
    "입력:\n",
    "\n",
    "\"1. 현대자동차의 시장 점유율을 평가하기 위해 자동차 산업 내 경쟁사의 판매 데이터를 분석하라.\"\n",
    "\n",
    "출력:\n",
    "\n",
    "현대자동차,자동차\n",
    "\n",
    "입력:\n",
    "\n",
    "\"1. 네이버의 사용자 증가율을 측정하기 위해 IT 섹터 내 다른 플랫폼의 성장률과 사용자 수를 비교하라.\"\n",
    "\n",
    "출력:\n",
    "\n",
    "네이버,IT\n",
    "\n",
    "\n",
    "# 다음 질문에 대해서 회사명과 섹터를 각각 추출하시오.\n",
    "{question_decomposed_1}\n",
    "\"\"\",\n",
    "input_variables=[\"question_decomposed_1\"],\n",
    ")\n",
    "\n",
    "finder_sector_and_company=(\n",
    "    find_sector_and_company_prompt | ChatOpenAI(model=\"gpt-4o-mini\", temperature=0) | StrOutputParser()    \n",
    ")"
   ]
  },
  {
   "cell_type": "code",
   "execution_count": 13,
   "metadata": {},
   "outputs": [],
   "source": [
    "# finder_sector_and_company.invoke({\"question_decomposed_1\":\"1.\\tSK하이닉스의 공정 PER을 계산하기 위해 반도체 산업 내 다른 기업들의 성장률과 PER을 분석할 수 있는가?\"})"
   ]
  },
  {
   "cell_type": "code",
   "execution_count": 14,
   "metadata": {},
   "outputs": [],
   "source": [
    "def find_sector_and_company(state:GraphState)->GraphState:\n",
    "    question_decomposed_1=state[\"question_decomposed_1\"]\n",
    "    sector_and_company = finder_sector_and_company.invoke({\"question_decomposed_1\":question_decomposed_1})\n",
    "    company, sector = sector_and_company.split(\",\")\n",
    "    return GraphState(company=company, sector=sector)"
   ]
  },
  {
   "cell_type": "code",
   "execution_count": 15,
   "metadata": {},
   "outputs": [],
   "source": [
    "import yfinance as yf\n",
    "from yahooquery import search\n",
    "from deep_translator import GoogleTranslator\n",
    "import pandas as pd\n",
    "\n",
    "semiconductor_tickers = [\n",
    "    'INTC',    # Intel Corporation\n",
    "    'NVDA',    # NVIDIA Corporation\n",
    "    'AMD',     # Advanced Micro Devices, Inc.\n",
    "    'TXN',     # Texas Instruments Incorporated\n",
    "    'AVGO',    # Broadcom Inc.\n",
    "    'QCOM',    # Qualcomm Incorporated\n",
    "    'ASML',    # ASML Holding N.V.\n",
    "    'MU',      # Micron Technology, Inc.\n",
    "    'LRCX',    # Lam Research Corporation\n",
    "    'TSM',     # Taiwan Semiconductor Manufacturing Company Limited\n",
    "    '005930.KS' # 삼성전자\n",
    "]\n",
    "\n",
    "# 사전 매핑 (특정 기업의 경우 수동 매핑)\n",
    "manual_mapping = {\n",
    "    \"삼성전자\": \"005930.KS\",\n",
    "    # 추가적인 기업 매핑이 필요하다면 여기에 추가\n",
    "}\n",
    "\n",
    "def get_ticker(company_name):\n",
    "    try:\n",
    "        # 사전 매핑 확인\n",
    "        # if company_name in manual_mapping:\n",
    "        #     return manual_mapping[company_name]\n",
    "        \n",
    "        # 회사명을 영어로 번역\n",
    "        translated = GoogleTranslator(source='auto', target='en').translate(company_name)\n",
    "        print(f\"Translated company name: {translated}\")\n",
    "        \n",
    "        # 번역된 이름으로 검색\n",
    "        results = search(translated)\n",
    "        if results is not None and 'quotes' in results and len(results['quotes']) > 0:\n",
    "            # 첫 번째 결과의 티커 반환\n",
    "            return results['quotes'][0]['symbol']\n",
    "        else:\n",
    "            print(f\"No ticker found for {company_name} after translation.\")\n",
    "            return None\n",
    "    except Exception as e:\n",
    "        print(f\"Error translating or searching for {company_name}: {e}\")\n",
    "        return None\n",
    "\n",
    "\n",
    "def estimate_PER(state:GraphState)->GraphState:\n",
    "    target_company_ori = state[\"company\"]\n",
    "    sector = state.get('sector', \"\")\n",
    "    \n",
    "    if sector == \"반도체\":\n",
    "        tickers = semiconductor_tickers\n",
    "    else:\n",
    "        print(f\"지원되지 않는 섹터: {sector}\")\n",
    "        return\n",
    "    \n",
    "    # PER 및 성장률 데이터를 저장할 리스트 생성\n",
    "    per_list = []\n",
    "    growth_list = []\n",
    "    \n",
    "    for ticker in tickers:\n",
    "        try:\n",
    "            company = yf.Ticker(ticker)\n",
    "            info = company.info\n",
    "            \n",
    "            # Trailing PER 가져오기\n",
    "            trailing_pe = info.get('trailingPE', None)\n",
    "            \n",
    "            # 매출 성장률 계산 (최근 2년 간 매출 비교)\n",
    "            financials = company.financials\n",
    "            if 'Total Revenue' in financials.index:\n",
    "                revenue = financials.loc['Total Revenue']\n",
    "                revenue_sorted = revenue.sort_index(ascending=True)\n",
    "                if len(revenue_sorted) >= 2:\n",
    "                    growth_rate = (revenue_sorted.iloc[-1] - revenue_sorted.iloc[-2]) / revenue_sorted.iloc[-2] * 100\n",
    "                else:\n",
    "                    growth_rate = None\n",
    "            else:\n",
    "                growth_rate = None\n",
    "            \n",
    "            # 리스트에 추가\n",
    "            per_list.append({'Ticker': ticker, 'TrailingPE': trailing_pe})\n",
    "            growth_list.append({'Ticker': ticker, 'RevenueGrowth': growth_rate})\n",
    "        \n",
    "        except Exception as e:\n",
    "            print(f\"Error fetching data for {ticker}: {e}\")\n",
    "    \n",
    "    # 리스트를 DataFrame으로 변환\n",
    "    per_data = pd.DataFrame(per_list)\n",
    "    growth_data = pd.DataFrame(growth_list)\n",
    "    \n",
    "    # 유효한 PER과 성장률 데이터 필터링\n",
    "    valid_per = per_data['TrailingPE'].dropna()\n",
    "    valid_growth = growth_data['RevenueGrowth'].dropna()\n",
    "    \n",
    "    # 섹터 평균 PER과 평균 매출 성장률 계산\n",
    "    sector_average_per = valid_per.mean()\n",
    "    sector_average_growth = valid_growth.mean()\n",
    "    \n",
    "    print(f\"반도체 섹터 평균 PER: {sector_average_per:.2f}\")\n",
    "    print(f\"반도체 섹터 평균 매출 성장률: {sector_average_growth:.2f}%\")\n",
    "    \n",
    "    # 특정 기업의 PER 추정\n",
    "    # 삼성전자는 이미 티커 리스트에 포함되어 있으므로 직접 사용\n",
    "    target_ticker = get_ticker(target_company_ori)  # 삼성전자의 티커\n",
    "    \n",
    "    try:\n",
    "        target_company = yf.Ticker(target_ticker)\n",
    "        target_info = target_company.info\n",
    "        target_pe = target_info.get('trailingPE', None)\n",
    "        \n",
    "        # 매출 성장률 계산\n",
    "        if 'Total Revenue' in target_company.financials.index:\n",
    "            target_financials = target_company.financials\n",
    "            target_revenue = target_financials.loc['Total Revenue']\n",
    "            target_revenue_sorted = target_revenue.sort_index(ascending=True)\n",
    "            if len(target_revenue_sorted) >= 2:\n",
    "                target_growth = (target_revenue_sorted.iloc[-1] - target_revenue_sorted.iloc[-2]) / target_revenue_sorted.iloc[-2] * 100\n",
    "            else:\n",
    "                target_growth = None\n",
    "        else:\n",
    "            target_growth = None\n",
    "        \n",
    "        print(f\"{target_ticker}의 매출 성장률: {target_growth:.2f}%\")\n",
    "        \n",
    "        if target_growth is not None and sector_average_growth != 0:\n",
    "            # PER 추정\n",
    "            estimated_per = sector_average_per * (target_growth / sector_average_growth)\n",
    "            print(f\"{target_ticker}의 추정 PER: {estimated_per:.2f}\")\n",
    "        else:\n",
    "            print(f\"{target_ticker}의 PER을 추정할 수 없습니다.\")\n",
    "        return GraphState(answer=estimated_per)        \n",
    "    except Exception as e:\n",
    "        print(f\"Error fetching data for {target_ticker}: {e}\")"
   ]
  },
  {
   "cell_type": "code",
   "execution_count": 16,
   "metadata": {},
   "outputs": [],
   "source": [
    "# test_state = GraphState(company=\"삼성전자\",sector=\"반도체\")\n",
    "# estimate_PER(test_state)"
   ]
  },
  {
   "cell_type": "code",
   "execution_count": 17,
   "metadata": {},
   "outputs": [],
   "source": [
    "def llm(state: GraphState) -> GraphState:\n",
    "    prompt = PromptTemplate.from_template( \"\"\"\n",
    "        너는 금융 전문가야 아래 내용을 보고 질문에 대해 적절한 대답을 해\n",
    "\n",
    "        {per}\n",
    "\n",
    "        {question}\n",
    "\n",
    "        \"\"\"\n",
    "    )\n",
    "    chain = prompt | ChatOpenAI() | StrOutputParser()\n",
    "    return GraphState(answer=chain.invoke({\"question\":state['question'][0].content, \"per\": state['answer']}))"
   ]
  },
  {
   "cell_type": "code",
   "execution_count": 18,
   "metadata": {},
   "outputs": [],
   "source": [
    "from langgraph.graph import START, END, StateGraph\n",
    "from langgraph.checkpoint.memory import MemorySaver"
   ]
  },
  {
   "cell_type": "code",
   "execution_count": 19,
   "metadata": {},
   "outputs": [],
   "source": [
    "workflow = StateGraph(GraphState)"
   ]
  },
  {
   "cell_type": "code",
   "execution_count": 20,
   "metadata": {},
   "outputs": [
    {
     "data": {
      "text/plain": [
       "<langgraph.graph.state.StateGraph at 0x11c049150>"
      ]
     },
     "execution_count": 20,
     "metadata": {},
     "output_type": "execute_result"
    }
   ],
   "source": [
    "workflow.add_node(\"query_rewrite\", query_rewrite)\n",
    "workflow.add_node(\"query_decomposer\", query_decomposer)\n",
    "workflow.add_node(\"find_sector_and_company\", find_sector_and_company)\n",
    "workflow.add_node(\"estimate_PER\",estimate_PER)\n",
    "workflow.add_node(\"llm\",llm)"
   ]
  },
  {
   "cell_type": "code",
   "execution_count": 21,
   "metadata": {},
   "outputs": [
    {
     "data": {
      "text/plain": [
       "<langgraph.graph.state.StateGraph at 0x11c049150>"
      ]
     },
     "execution_count": 21,
     "metadata": {},
     "output_type": "execute_result"
    }
   ],
   "source": [
    "workflow.add_conditional_edges(\n",
    "    START,\n",
    "    route_question,\n",
    "    {\n",
    "        \"query_trans_price_pred\": \"query_rewrite\",\n",
    "        \"llm\": \"llm\",\n",
    "    }\n",
    ")"
   ]
  },
  {
   "cell_type": "code",
   "execution_count": 22,
   "metadata": {},
   "outputs": [
    {
     "data": {
      "text/plain": [
       "<langgraph.graph.state.StateGraph at 0x11c049150>"
      ]
     },
     "execution_count": 22,
     "metadata": {},
     "output_type": "execute_result"
    }
   ],
   "source": [
    "workflow.add_edge(\"query_rewrite\", \"query_decomposer\")\n",
    "workflow.add_edge(\"query_decomposer\", \"find_sector_and_company\")\n",
    "workflow.add_edge(\"find_sector_and_company\",\"estimate_PER\")\n",
    "workflow.add_edge(\"estimate_PER\",\"llm\")\n",
    "workflow.add_edge(\"llm\",END)"
   ]
  },
  {
   "cell_type": "code",
   "execution_count": 23,
   "metadata": {},
   "outputs": [],
   "source": [
    "memory = MemorySaver()\n",
    "# 그래프 컴파일\n",
    "app = workflow.compile(checkpointer=memory)"
   ]
  },
  {
   "cell_type": "code",
   "execution_count": 24,
   "metadata": {},
   "outputs": [
    {
     "data": {
      "image/png": "[encoded data removed]",
      "text/plain": [
       "<IPython.core.display.Image object>"
      ]
     },
     "metadata": {},
     "output_type": "display_data"
    }
   ],
   "source": [
    "from langchain_teddynote.graphs import visualize_graph\n",
    "\n",
    "visualize_graph(app)"
   ]
  },
  {
   "cell_type": "code",
   "execution_count": 27,
   "metadata": {},
   "outputs": [
    {
     "name": "stdout",
     "output_type": "stream",
     "text": [
      "==== [ROUTE QUESTION] ====\n",
      "\n",
      "==================================================\n",
      "🔄 Node: \u001b[1;36m__start__\u001b[0m 🔄\n",
      "- - - - - - - - - - - - - - - - - - - - - - - - - \n",
      "==== [ROUTE QUESTION TO Query TRANSFORMATION FOR PRICE PREDICTION] ====\n",
      "\n",
      "==================================================\n",
      "🔄 Node: \u001b[1;36mquery_rewrite\u001b[0m 🔄\n",
      "- - - - - - - - - - - - - - - - - - - - - - - - - \n",
      "1. SK하이닉스의 공정 PER을 계산하기 위해 반도체 산업 내 기업들의 성장률과 PER을 분석할 수 있는가?\n",
      "2. SK하이닉스의 내년 EPS를 추정하기 위해 반도체 시장 상황, 거시경제 환경, 그리고 회사의 현재 성과를 고려할 수 있는가?\n",
      "3. 공정 PER에 내년 EPS를 곱하여 SK하이닉스의 목표 주가를 산출할 수 있는가?반도체 섹터 평균 PER: 67.32\n",
      "반도체 섹터 평균 매출 성장률: 15.50%\n",
      "Translated company name: SK Hynix\n",
      "000660.KS의 매출 성장률: -38.06%\n",
      "000660.KS의 추정 PER: -165.29\n",
      "\n",
      "==================================================\n",
      "🔄 Node: \u001b[1;36mllm\u001b[0m 🔄\n",
      "- - - - - - - - - - - - - - - - - - - - - - - - - \n",
      "주식 시장은 예측하기 어려운 것이 사실입니다. SK하이닉스의 주가는 다양한 요인에 의해 영향을 받을 수 있습니다. 주가는 기업의 실적, 산업 전망, 경제 상황, 시장 변동성 등 다양한 요소에 영향을 받기 때문에 정확한 예측은 어렵습니다. 하지만 전반적으로 금융 전문가들은 SK하이닉스가 성장 산업에 속하고 기술력이 우수하다는 점을 고려할 때 장기적으로 긍정적인 전망을 가지고 있습니다.하지만 단기적인 주가 변동은 예측하기 어려우므로 신중한 투자가 필요합니다."
     ]
    }
   ],
   "source": [
    "from langchain_core.runnables import RunnableConfig\n",
    "from langchain_teddynote.messages import stream_graph, random_uuid\n",
    "\n",
    "# config 설정(재귀 최대 횟수, thread_id)\n",
    "config = RunnableConfig(recursion_limit=10, configurable={\"thread_id\": random_uuid()})\n",
    "\n",
    "# 질문 입력\n",
    "inputs = GraphState(question=\"SK하이닉스의 주가가 어떻게 될것 같아?\")\n",
    "\n",
    "# 그래프 실행\n",
    "stream_graph(app, inputs, config, [START,\"query_rewrite\", \"llm\",END])"
   ]
  },
  {
   "cell_type": "code",
   "execution_count": 33,
   "metadata": {},
   "outputs": [
    {
     "name": "stdout",
     "output_type": "stream",
     "text": [
      "==== [ROUTE QUESTION] ====\n",
      "\n",
      "==================================================\n",
      "🔄 Node: \u001b[1;36m__start__\u001b[0m 🔄\n",
      "- - - - - - - - - - - - - - - - - - - - - - - - - \n",
      "==== [ROUTE QUESTION TO LLM] ====\n"
     ]
    },
    {
     "ename": "KeyError",
     "evalue": "'answer'",
     "output_type": "error",
     "traceback": [
      "\u001b[0;31m---------------------------------------------------------------------------\u001b[0m",
      "\u001b[0;31mKeyError\u001b[0m                                  Traceback (most recent call last)",
      "Cell \u001b[0;32mIn[33], line 7\u001b[0m\n\u001b[1;32m      4\u001b[0m inputs \u001b[38;5;241m=\u001b[39m GraphState(question\u001b[38;5;241m=\u001b[39m\u001b[38;5;124m\"\u001b[39m\u001b[38;5;124m삼성전자 대해 설명해\u001b[39m\u001b[38;5;124m\"\u001b[39m)\n\u001b[1;32m      6\u001b[0m \u001b[38;5;66;03m# 그래프 실행\u001b[39;00m\n\u001b[0;32m----> 7\u001b[0m \u001b[43mstream_graph\u001b[49m\u001b[43m(\u001b[49m\u001b[43mapp\u001b[49m\u001b[43m,\u001b[49m\u001b[43m \u001b[49m\u001b[43minputs\u001b[49m\u001b[43m,\u001b[49m\u001b[43m \u001b[49m\u001b[43mconfig\u001b[49m\u001b[43m,\u001b[49m\u001b[43m \u001b[49m\u001b[43m[\u001b[49m\u001b[43mSTART\u001b[49m\u001b[43m,\u001b[49m\u001b[43m \u001b[49m\u001b[38;5;124;43m\"\u001b[39;49m\u001b[38;5;124;43mllm\u001b[39;49m\u001b[38;5;124;43m\"\u001b[39;49m\u001b[43m,\u001b[49m\u001b[43m \u001b[49m\u001b[43mEND\u001b[49m\u001b[43m]\u001b[49m\u001b[43m)\u001b[49m\n",
      "File \u001b[0;32m~/Library/Caches/pypoetry/virtualenvs/langgraph-agent-BVoR3L7Q-py3.11/lib/python3.11/site-packages/langchain_teddynote/messages.py:363\u001b[0m, in \u001b[0;36mstream_graph\u001b[0;34m(graph, inputs, config, node_names, callback)\u001b[0m\n\u001b[1;32m    348\u001b[0m \u001b[38;5;250m\u001b[39m\u001b[38;5;124;03m\"\"\"\u001b[39;00m\n\u001b[1;32m    349\u001b[0m \u001b[38;5;124;03mLangGraph의 실행 결과를 스트리밍하여 출력하는 함수입니다.\u001b[39;00m\n\u001b[1;32m    350\u001b[0m \n\u001b[0;32m   (...)\u001b[0m\n\u001b[1;32m    360\u001b[0m \u001b[38;5;124;03m    None: 함수는 스트리밍 결과를 출력만 하고 반환값은 없습니다.\u001b[39;00m\n\u001b[1;32m    361\u001b[0m \u001b[38;5;124;03m\"\"\"\u001b[39;00m\n\u001b[1;32m    362\u001b[0m prev_node \u001b[38;5;241m=\u001b[39m \u001b[38;5;124m\"\u001b[39m\u001b[38;5;124m\"\u001b[39m\n\u001b[0;32m--> 363\u001b[0m \u001b[43m\u001b[49m\u001b[38;5;28;43;01mfor\u001b[39;49;00m\u001b[43m \u001b[49m\u001b[43mchunk_msg\u001b[49m\u001b[43m,\u001b[49m\u001b[43m \u001b[49m\u001b[43mmetadata\u001b[49m\u001b[43m \u001b[49m\u001b[38;5;129;43;01min\u001b[39;49;00m\u001b[43m \u001b[49m\u001b[43mgraph\u001b[49m\u001b[38;5;241;43m.\u001b[39;49m\u001b[43mstream\u001b[49m\u001b[43m(\u001b[49m\u001b[43minputs\u001b[49m\u001b[43m,\u001b[49m\u001b[43m \u001b[49m\u001b[43mconfig\u001b[49m\u001b[43m,\u001b[49m\u001b[43m \u001b[49m\u001b[43mstream_mode\u001b[49m\u001b[38;5;241;43m=\u001b[39;49m\u001b[38;5;124;43m\"\u001b[39;49m\u001b[38;5;124;43mmessages\u001b[39;49m\u001b[38;5;124;43m\"\u001b[39;49m\u001b[43m)\u001b[49m\u001b[43m:\u001b[49m\n\u001b[1;32m    364\u001b[0m \u001b[43m    \u001b[49m\u001b[43mcurr_node\u001b[49m\u001b[43m \u001b[49m\u001b[38;5;241;43m=\u001b[39;49m\u001b[43m \u001b[49m\u001b[43mmetadata\u001b[49m\u001b[43m[\u001b[49m\u001b[38;5;124;43m\"\u001b[39;49m\u001b[38;5;124;43mlanggraph_node\u001b[39;49m\u001b[38;5;124;43m\"\u001b[39;49m\u001b[43m]\u001b[49m\n\u001b[1;32m    366\u001b[0m \u001b[43m    \u001b[49m\u001b[38;5;66;43;03m# node_names가 비어있거나 현재 노드가 node_names에 있는 경우에만 처리\u001b[39;49;00m\n",
      "File \u001b[0;32m~/Library/Caches/pypoetry/virtualenvs/langgraph-agent-BVoR3L7Q-py3.11/lib/python3.11/site-packages/langgraph/pregel/__init__.py:1647\u001b[0m, in \u001b[0;36mPregel.stream\u001b[0;34m(self, input, config, stream_mode, output_keys, interrupt_before, interrupt_after, debug, subgraphs)\u001b[0m\n\u001b[1;32m   1641\u001b[0m     \u001b[38;5;66;03m# Similarly to Bulk Synchronous Parallel / Pregel model\u001b[39;00m\n\u001b[1;32m   1642\u001b[0m     \u001b[38;5;66;03m# computation proceeds in steps, while there are channel updates\u001b[39;00m\n\u001b[1;32m   1643\u001b[0m     \u001b[38;5;66;03m# channel updates from step N are only visible in step N+1\u001b[39;00m\n\u001b[1;32m   1644\u001b[0m     \u001b[38;5;66;03m# channels are guaranteed to be immutable for the duration of the step,\u001b[39;00m\n\u001b[1;32m   1645\u001b[0m     \u001b[38;5;66;03m# with channel updates applied only at the transition between steps\u001b[39;00m\n\u001b[1;32m   1646\u001b[0m     \u001b[38;5;28;01mwhile\u001b[39;00m loop\u001b[38;5;241m.\u001b[39mtick(input_keys\u001b[38;5;241m=\u001b[39m\u001b[38;5;28mself\u001b[39m\u001b[38;5;241m.\u001b[39minput_channels):\n\u001b[0;32m-> 1647\u001b[0m \u001b[43m        \u001b[49m\u001b[38;5;28;43;01mfor\u001b[39;49;00m\u001b[43m \u001b[49m\u001b[43m_\u001b[49m\u001b[43m \u001b[49m\u001b[38;5;129;43;01min\u001b[39;49;00m\u001b[43m \u001b[49m\u001b[43mrunner\u001b[49m\u001b[38;5;241;43m.\u001b[39;49m\u001b[43mtick\u001b[49m\u001b[43m(\u001b[49m\n\u001b[1;32m   1648\u001b[0m \u001b[43m            \u001b[49m\u001b[43mloop\u001b[49m\u001b[38;5;241;43m.\u001b[39;49m\u001b[43mtasks\u001b[49m\u001b[38;5;241;43m.\u001b[39;49m\u001b[43mvalues\u001b[49m\u001b[43m(\u001b[49m\u001b[43m)\u001b[49m\u001b[43m,\u001b[49m\n\u001b[1;32m   1649\u001b[0m \u001b[43m            \u001b[49m\u001b[43mtimeout\u001b[49m\u001b[38;5;241;43m=\u001b[39;49m\u001b[38;5;28;43mself\u001b[39;49m\u001b[38;5;241;43m.\u001b[39;49m\u001b[43mstep_timeout\u001b[49m\u001b[43m,\u001b[49m\n\u001b[1;32m   1650\u001b[0m \u001b[43m            \u001b[49m\u001b[43mretry_policy\u001b[49m\u001b[38;5;241;43m=\u001b[39;49m\u001b[38;5;28;43mself\u001b[39;49m\u001b[38;5;241;43m.\u001b[39;49m\u001b[43mretry_policy\u001b[49m\u001b[43m,\u001b[49m\n\u001b[1;32m   1651\u001b[0m \u001b[43m            \u001b[49m\u001b[43mget_waiter\u001b[49m\u001b[38;5;241;43m=\u001b[39;49m\u001b[43mget_waiter\u001b[49m\u001b[43m,\u001b[49m\n\u001b[1;32m   1652\u001b[0m \u001b[43m        \u001b[49m\u001b[43m)\u001b[49m\u001b[43m:\u001b[49m\n\u001b[1;32m   1653\u001b[0m \u001b[43m            \u001b[49m\u001b[38;5;66;43;03m# emit output\u001b[39;49;00m\n\u001b[1;32m   1654\u001b[0m \u001b[43m            \u001b[49m\u001b[38;5;28;43;01myield from\u001b[39;49;00m\u001b[43m \u001b[49m\u001b[43moutput\u001b[49m\u001b[43m(\u001b[49m\u001b[43m)\u001b[49m\n\u001b[1;32m   1655\u001b[0m \u001b[38;5;66;03m# emit output\u001b[39;00m\n",
      "File \u001b[0;32m~/Library/Caches/pypoetry/virtualenvs/langgraph-agent-BVoR3L7Q-py3.11/lib/python3.11/site-packages/langgraph/pregel/runner.py:159\u001b[0m, in \u001b[0;36mPregelRunner.tick\u001b[0;34m(self, tasks, reraise, timeout, retry_policy, get_waiter)\u001b[0m\n\u001b[1;32m    157\u001b[0m     \u001b[38;5;28;01myield\u001b[39;00m\n\u001b[1;32m    158\u001b[0m \u001b[38;5;66;03m# panic on failure or timeout\u001b[39;00m\n\u001b[0;32m--> 159\u001b[0m \u001b[43m_panic_or_proceed\u001b[49m\u001b[43m(\u001b[49m\n\u001b[1;32m    160\u001b[0m \u001b[43m    \u001b[49m\u001b[43mdone_futures\u001b[49m\u001b[38;5;241;43m.\u001b[39;49m\u001b[43munion\u001b[49m\u001b[43m(\u001b[49m\u001b[43mf\u001b[49m\u001b[43m \u001b[49m\u001b[38;5;28;43;01mfor\u001b[39;49;00m\u001b[43m \u001b[49m\u001b[43mf\u001b[49m\u001b[43m,\u001b[49m\u001b[43m \u001b[49m\u001b[43mt\u001b[49m\u001b[43m \u001b[49m\u001b[38;5;129;43;01min\u001b[39;49;00m\u001b[43m \u001b[49m\u001b[43mfutures\u001b[49m\u001b[38;5;241;43m.\u001b[39;49m\u001b[43mitems\u001b[49m\u001b[43m(\u001b[49m\u001b[43m)\u001b[49m\u001b[43m \u001b[49m\u001b[38;5;28;43;01mif\u001b[39;49;00m\u001b[43m \u001b[49m\u001b[43mt\u001b[49m\u001b[43m \u001b[49m\u001b[38;5;129;43;01mis\u001b[39;49;00m\u001b[43m \u001b[49m\u001b[38;5;129;43;01mnot\u001b[39;49;00m\u001b[43m \u001b[49m\u001b[38;5;28;43;01mNone\u001b[39;49;00m\u001b[43m)\u001b[49m\u001b[43m,\u001b[49m\n\u001b[1;32m    161\u001b[0m \u001b[43m    \u001b[49m\u001b[43mpanic\u001b[49m\u001b[38;5;241;43m=\u001b[39;49m\u001b[43mreraise\u001b[49m\u001b[43m,\u001b[49m\n\u001b[1;32m    162\u001b[0m \u001b[43m\u001b[49m\u001b[43m)\u001b[49m\n",
      "File \u001b[0;32m~/Library/Caches/pypoetry/virtualenvs/langgraph-agent-BVoR3L7Q-py3.11/lib/python3.11/site-packages/langgraph/pregel/runner.py:367\u001b[0m, in \u001b[0;36m_panic_or_proceed\u001b[0;34m(futs, timeout_exc_cls, panic)\u001b[0m\n\u001b[1;32m    365\u001b[0m \u001b[38;5;66;03m# raise the exception\u001b[39;00m\n\u001b[1;32m    366\u001b[0m \u001b[38;5;28;01mif\u001b[39;00m panic:\n\u001b[0;32m--> 367\u001b[0m     \u001b[38;5;28;01mraise\u001b[39;00m exc\n\u001b[1;32m    368\u001b[0m \u001b[38;5;28;01melse\u001b[39;00m:\n\u001b[1;32m    369\u001b[0m     \u001b[38;5;28;01mreturn\u001b[39;00m\n",
      "File \u001b[0;32m~/Library/Caches/pypoetry/virtualenvs/langgraph-agent-BVoR3L7Q-py3.11/lib/python3.11/site-packages/langgraph/pregel/executor.py:70\u001b[0m, in \u001b[0;36mBackgroundExecutor.done\u001b[0;34m(self, task)\u001b[0m\n\u001b[1;32m     68\u001b[0m \u001b[38;5;28;01mdef\u001b[39;00m \u001b[38;5;21mdone\u001b[39m(\u001b[38;5;28mself\u001b[39m, task: concurrent\u001b[38;5;241m.\u001b[39mfutures\u001b[38;5;241m.\u001b[39mFuture) \u001b[38;5;241m-\u001b[39m\u001b[38;5;241m>\u001b[39m \u001b[38;5;28;01mNone\u001b[39;00m:\n\u001b[1;32m     69\u001b[0m     \u001b[38;5;28;01mtry\u001b[39;00m:\n\u001b[0;32m---> 70\u001b[0m         \u001b[43mtask\u001b[49m\u001b[38;5;241;43m.\u001b[39;49m\u001b[43mresult\u001b[49m\u001b[43m(\u001b[49m\u001b[43m)\u001b[49m\n\u001b[1;32m     71\u001b[0m     \u001b[38;5;28;01mexcept\u001b[39;00m GraphInterrupt:\n\u001b[1;32m     72\u001b[0m         \u001b[38;5;66;03m# This exception is an interruption signal, not an error\u001b[39;00m\n\u001b[1;32m     73\u001b[0m         \u001b[38;5;66;03m# so we don't want to re-raise it on exit\u001b[39;00m\n\u001b[1;32m     74\u001b[0m         \u001b[38;5;28mself\u001b[39m\u001b[38;5;241m.\u001b[39mtasks\u001b[38;5;241m.\u001b[39mpop(task)\n",
      "File \u001b[0;32m~/.pyenv/versions/3.11.9/lib/python3.11/concurrent/futures/_base.py:449\u001b[0m, in \u001b[0;36mFuture.result\u001b[0;34m(self, timeout)\u001b[0m\n\u001b[1;32m    447\u001b[0m     \u001b[38;5;28;01mraise\u001b[39;00m CancelledError()\n\u001b[1;32m    448\u001b[0m \u001b[38;5;28;01melif\u001b[39;00m \u001b[38;5;28mself\u001b[39m\u001b[38;5;241m.\u001b[39m_state \u001b[38;5;241m==\u001b[39m FINISHED:\n\u001b[0;32m--> 449\u001b[0m     \u001b[38;5;28;01mreturn\u001b[39;00m \u001b[38;5;28;43mself\u001b[39;49m\u001b[38;5;241;43m.\u001b[39;49m\u001b[43m__get_result\u001b[49m\u001b[43m(\u001b[49m\u001b[43m)\u001b[49m\n\u001b[1;32m    451\u001b[0m \u001b[38;5;28mself\u001b[39m\u001b[38;5;241m.\u001b[39m_condition\u001b[38;5;241m.\u001b[39mwait(timeout)\n\u001b[1;32m    453\u001b[0m \u001b[38;5;28;01mif\u001b[39;00m \u001b[38;5;28mself\u001b[39m\u001b[38;5;241m.\u001b[39m_state \u001b[38;5;129;01min\u001b[39;00m [CANCELLED, CANCELLED_AND_NOTIFIED]:\n",
      "File \u001b[0;32m~/.pyenv/versions/3.11.9/lib/python3.11/concurrent/futures/_base.py:401\u001b[0m, in \u001b[0;36mFuture.__get_result\u001b[0;34m(self)\u001b[0m\n\u001b[1;32m    399\u001b[0m \u001b[38;5;28;01mif\u001b[39;00m \u001b[38;5;28mself\u001b[39m\u001b[38;5;241m.\u001b[39m_exception:\n\u001b[1;32m    400\u001b[0m     \u001b[38;5;28;01mtry\u001b[39;00m:\n\u001b[0;32m--> 401\u001b[0m         \u001b[38;5;28;01mraise\u001b[39;00m \u001b[38;5;28mself\u001b[39m\u001b[38;5;241m.\u001b[39m_exception\n\u001b[1;32m    402\u001b[0m     \u001b[38;5;28;01mfinally\u001b[39;00m:\n\u001b[1;32m    403\u001b[0m         \u001b[38;5;66;03m# Break a reference cycle with the exception in self._exception\u001b[39;00m\n\u001b[1;32m    404\u001b[0m         \u001b[38;5;28mself\u001b[39m \u001b[38;5;241m=\u001b[39m \u001b[38;5;28;01mNone\u001b[39;00m\n",
      "File \u001b[0;32m~/.pyenv/versions/3.11.9/lib/python3.11/concurrent/futures/thread.py:58\u001b[0m, in \u001b[0;36m_WorkItem.run\u001b[0;34m(self)\u001b[0m\n\u001b[1;32m     55\u001b[0m     \u001b[38;5;28;01mreturn\u001b[39;00m\n\u001b[1;32m     57\u001b[0m \u001b[38;5;28;01mtry\u001b[39;00m:\n\u001b[0;32m---> 58\u001b[0m     result \u001b[38;5;241m=\u001b[39m \u001b[38;5;28;43mself\u001b[39;49m\u001b[38;5;241;43m.\u001b[39;49m\u001b[43mfn\u001b[49m\u001b[43m(\u001b[49m\u001b[38;5;241;43m*\u001b[39;49m\u001b[38;5;28;43mself\u001b[39;49m\u001b[38;5;241;43m.\u001b[39;49m\u001b[43margs\u001b[49m\u001b[43m,\u001b[49m\u001b[43m \u001b[49m\u001b[38;5;241;43m*\u001b[39;49m\u001b[38;5;241;43m*\u001b[39;49m\u001b[38;5;28;43mself\u001b[39;49m\u001b[38;5;241;43m.\u001b[39;49m\u001b[43mkwargs\u001b[49m\u001b[43m)\u001b[49m\n\u001b[1;32m     59\u001b[0m \u001b[38;5;28;01mexcept\u001b[39;00m \u001b[38;5;167;01mBaseException\u001b[39;00m \u001b[38;5;28;01mas\u001b[39;00m exc:\n\u001b[1;32m     60\u001b[0m     \u001b[38;5;28mself\u001b[39m\u001b[38;5;241m.\u001b[39mfuture\u001b[38;5;241m.\u001b[39mset_exception(exc)\n",
      "File \u001b[0;32m~/Library/Caches/pypoetry/virtualenvs/langgraph-agent-BVoR3L7Q-py3.11/lib/python3.11/site-packages/langgraph/pregel/retry.py:40\u001b[0m, in \u001b[0;36mrun_with_retry\u001b[0;34m(task, retry_policy, writer)\u001b[0m\n\u001b[1;32m     38\u001b[0m task\u001b[38;5;241m.\u001b[39mwrites\u001b[38;5;241m.\u001b[39mclear()\n\u001b[1;32m     39\u001b[0m \u001b[38;5;66;03m# run the task\u001b[39;00m\n\u001b[0;32m---> 40\u001b[0m \u001b[43mtask\u001b[49m\u001b[38;5;241;43m.\u001b[39;49m\u001b[43mproc\u001b[49m\u001b[38;5;241;43m.\u001b[39;49m\u001b[43minvoke\u001b[49m\u001b[43m(\u001b[49m\u001b[43mtask\u001b[49m\u001b[38;5;241;43m.\u001b[39;49m\u001b[43minput\u001b[49m\u001b[43m,\u001b[49m\u001b[43m \u001b[49m\u001b[43mconfig\u001b[49m\u001b[43m)\u001b[49m\n\u001b[1;32m     41\u001b[0m \u001b[38;5;66;03m# if successful, end\u001b[39;00m\n\u001b[1;32m     42\u001b[0m \u001b[38;5;28;01mbreak\u001b[39;00m\n",
      "File \u001b[0;32m~/Library/Caches/pypoetry/virtualenvs/langgraph-agent-BVoR3L7Q-py3.11/lib/python3.11/site-packages/langgraph/utils/runnable.py:410\u001b[0m, in \u001b[0;36mRunnableSeq.invoke\u001b[0;34m(self, input, config, **kwargs)\u001b[0m\n\u001b[1;32m    408\u001b[0m context\u001b[38;5;241m.\u001b[39mrun(_set_config_context, config)\n\u001b[1;32m    409\u001b[0m \u001b[38;5;28;01mif\u001b[39;00m i \u001b[38;5;241m==\u001b[39m \u001b[38;5;241m0\u001b[39m:\n\u001b[0;32m--> 410\u001b[0m     \u001b[38;5;28minput\u001b[39m \u001b[38;5;241m=\u001b[39m \u001b[43mcontext\u001b[49m\u001b[38;5;241;43m.\u001b[39;49m\u001b[43mrun\u001b[49m\u001b[43m(\u001b[49m\u001b[43mstep\u001b[49m\u001b[38;5;241;43m.\u001b[39;49m\u001b[43minvoke\u001b[49m\u001b[43m,\u001b[49m\u001b[43m \u001b[49m\u001b[38;5;28;43minput\u001b[39;49m\u001b[43m,\u001b[49m\u001b[43m \u001b[49m\u001b[43mconfig\u001b[49m\u001b[43m,\u001b[49m\u001b[43m \u001b[49m\u001b[38;5;241;43m*\u001b[39;49m\u001b[38;5;241;43m*\u001b[39;49m\u001b[43mkwargs\u001b[49m\u001b[43m)\u001b[49m\n\u001b[1;32m    411\u001b[0m \u001b[38;5;28;01melse\u001b[39;00m:\n\u001b[1;32m    412\u001b[0m     \u001b[38;5;28minput\u001b[39m \u001b[38;5;241m=\u001b[39m context\u001b[38;5;241m.\u001b[39mrun(step\u001b[38;5;241m.\u001b[39minvoke, \u001b[38;5;28minput\u001b[39m, config)\n",
      "File \u001b[0;32m~/Library/Caches/pypoetry/virtualenvs/langgraph-agent-BVoR3L7Q-py3.11/lib/python3.11/site-packages/langgraph/utils/runnable.py:184\u001b[0m, in \u001b[0;36mRunnableCallable.invoke\u001b[0;34m(self, input, config, **kwargs)\u001b[0m\n\u001b[1;32m    182\u001b[0m \u001b[38;5;28;01melse\u001b[39;00m:\n\u001b[1;32m    183\u001b[0m     context\u001b[38;5;241m.\u001b[39mrun(_set_config_context, config)\n\u001b[0;32m--> 184\u001b[0m     ret \u001b[38;5;241m=\u001b[39m \u001b[43mcontext\u001b[49m\u001b[38;5;241;43m.\u001b[39;49m\u001b[43mrun\u001b[49m\u001b[43m(\u001b[49m\u001b[38;5;28;43mself\u001b[39;49m\u001b[38;5;241;43m.\u001b[39;49m\u001b[43mfunc\u001b[49m\u001b[43m,\u001b[49m\u001b[43m \u001b[49m\u001b[38;5;28;43minput\u001b[39;49m\u001b[43m,\u001b[49m\u001b[43m \u001b[49m\u001b[38;5;241;43m*\u001b[39;49m\u001b[38;5;241;43m*\u001b[39;49m\u001b[43mkwargs\u001b[49m\u001b[43m)\u001b[49m\n\u001b[1;32m    185\u001b[0m \u001b[38;5;28;01mif\u001b[39;00m \u001b[38;5;28misinstance\u001b[39m(ret, Runnable) \u001b[38;5;129;01mand\u001b[39;00m \u001b[38;5;28mself\u001b[39m\u001b[38;5;241m.\u001b[39mrecurse:\n\u001b[1;32m    186\u001b[0m     \u001b[38;5;28;01mreturn\u001b[39;00m ret\u001b[38;5;241m.\u001b[39minvoke(\u001b[38;5;28minput\u001b[39m, config)\n",
      "Cell \u001b[0;32mIn[17], line 12\u001b[0m, in \u001b[0;36mllm\u001b[0;34m(state)\u001b[0m\n\u001b[1;32m      2\u001b[0m prompt \u001b[38;5;241m=\u001b[39m PromptTemplate\u001b[38;5;241m.\u001b[39mfrom_template( \u001b[38;5;124m\"\"\"\u001b[39m\n\u001b[1;32m      3\u001b[0m \u001b[38;5;124m    너는 금융 전문가야 아래 내용을 보고 질문에 대해 적절한 대답을 해\u001b[39m\n\u001b[1;32m      4\u001b[0m \n\u001b[0;32m   (...)\u001b[0m\n\u001b[1;32m      9\u001b[0m \u001b[38;5;124m    \u001b[39m\u001b[38;5;124m\"\"\"\u001b[39m\n\u001b[1;32m     10\u001b[0m )\n\u001b[1;32m     11\u001b[0m chain \u001b[38;5;241m=\u001b[39m prompt \u001b[38;5;241m|\u001b[39m ChatOpenAI() \u001b[38;5;241m|\u001b[39m StrOutputParser()\n\u001b[0;32m---> 12\u001b[0m \u001b[38;5;28;01mreturn\u001b[39;00m GraphState(answer\u001b[38;5;241m=\u001b[39mchain\u001b[38;5;241m.\u001b[39minvoke({\u001b[38;5;124m\"\u001b[39m\u001b[38;5;124mquestion\u001b[39m\u001b[38;5;124m\"\u001b[39m:state[\u001b[38;5;124m'\u001b[39m\u001b[38;5;124mquestion\u001b[39m\u001b[38;5;124m'\u001b[39m][\u001b[38;5;241m0\u001b[39m]\u001b[38;5;241m.\u001b[39mcontent, \u001b[38;5;124m\"\u001b[39m\u001b[38;5;124mper\u001b[39m\u001b[38;5;124m\"\u001b[39m: \u001b[43mstate\u001b[49m\u001b[43m[\u001b[49m\u001b[38;5;124;43m'\u001b[39;49m\u001b[38;5;124;43manswer\u001b[39;49m\u001b[38;5;124;43m'\u001b[39;49m\u001b[43m]\u001b[49m}))\n",
      "\u001b[0;31mKeyError\u001b[0m: 'answer'"
     ]
    }
   ],
   "source": [
    "config = RunnableConfig(recursion_limit=10, configurable={\"thread_id\": random_uuid()})\n",
    "\n",
    "# 질문 입력\n",
    "inputs = GraphState(question=\"삼성전자 대해 설명해\")\n",
    "\n",
    "# 그래프 실행\n",
    "stream_graph(app, inputs, config, [START, \"llm\", END])"
   ]
  }
 ],
 "metadata": {
  "kernelspec": {
   "display_name": "langgraph-agent-BVoR3L7Q-py3.11",
   "language": "python",
   "name": "python3"
  },
  "language_info": {
   "codemirror_mode": {
    "name": "ipython",
    "version": 3
   },
   "file_extension": ".py",
   "mimetype": "text/x-python",
   "name": "python",
   "nbconvert_exporter": "python",
   "pygments_lexer": "ipython3",
   "version": "3.11.9"
  }
 },
 "nbformat": 4,
 "nbformat_minor": 2
}
