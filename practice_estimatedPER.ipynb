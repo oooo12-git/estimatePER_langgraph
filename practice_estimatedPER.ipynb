{
 "cells": [
  {
   "cell_type": "code",
   "execution_count": 1,
   "metadata": {},
   "outputs": [
    {
     "data": {
      "text/plain": [
       "True"
      ]
     },
     "execution_count": 1,
     "metadata": {},
     "output_type": "execute_result"
    }
   ],
   "source": [
    "from dotenv import load_dotenv\n",
    "\n",
    "load_dotenv()"
   ]
  },
  {
   "cell_type": "code",
   "execution_count": 2,
   "metadata": {},
   "outputs": [
    {
     "name": "stdout",
     "output_type": "stream",
     "text": [
      "LangSmith 추적을 시작합니다.\n",
      "[프로젝트명]\n",
      "practice-estimated-PER\n"
     ]
    }
   ],
   "source": [
    "from langchain_teddynote import logging\n",
    "\n",
    "# 프로젝트 이름을 입력합니다.\n",
    "logging.langsmith(\"practice-estimated-PER\")"
   ]
  },
  {
   "cell_type": "code",
   "execution_count": 3,
   "metadata": {},
   "outputs": [],
   "source": [
    "from typing import Annotated, TypedDict\n",
    "from langgraph.graph.message import add_messages\n",
    "\n",
    "class GraphState(TypedDict):\n",
    "    question: Annotated[list, add_messages]\n",
    "    context: Annotated[str, \"Context\"]\n",
    "    answer: Annotated[str, \"Answer\"]\n",
    "    messages: Annotated[list, add_messages]\n",
    "    relevance: Annotated[str,\"Relevance\"]\n",
    "    question_decomposed_1: Annotated[str, \"분해된 질문 중 1번\"]\n",
    "    question_decomposed_2: Annotated[str, \"분해된 질문 중 2번\"]\n",
    "    question_decomposed_3: Annotated[str, \"분해된 질문 중 3번\"]\n",
    "    company: Annotated[str, \"기업명\"]\n",
    "    sector: Annotated[str, \"섹터명\"]"
   ]
  },
  {
   "cell_type": "code",
   "execution_count": 4,
   "metadata": {},
   "outputs": [],
   "source": [
    "from langchain_core.prompts import PromptTemplate\n",
    "from langchain_core.output_parsers import StrOutputParser\n",
    "from langchain_openai import ChatOpenAI\n",
    "\n",
    "\n",
    "re_write_prompt = PromptTemplate(\n",
    "    template = \"\"\"\n",
    "Transform the given question into specific, practical analysis questions that leverage financial statements.\n",
    "\t•\tBreak down the question into smaller components that define the data required for investment decisions.\n",
    "\t•\tUtilize financial metrics (e.g., EPS, PER, ROE) from financial statements to construct a logical flow for investment analysis.\n",
    "\t•\tPreserve the intent of the original question while converting it into actionable questions for financial analysis.\n",
    "\n",
    "Output Format\n",
    "\n",
    "\t•\tPresent the transformed questions as a numbered list.\n",
    "\t•\tEach question should be actionable and analyzable using financial statements.\n",
    "\t•\tProvide only the output without additional explanation between the input and output.\n",
    "\n",
    "Example\n",
    "\n",
    "Input:\n",
    "“What do you think will happen to SK Hynix’s stock price?”\n",
    "\n",
    "Output:\n",
    "\n",
    "1.\tCalculate the fair PER of SK Hynix by analyzing the growth rates and PERs of companies in the semiconductor sector.\n",
    "2.\tEstimate next year’s EPS for SK Hynix by considering the semiconductor market conditions, macroeconomic environment, and the company’s current performance.\n",
    "3.\tMultiply the fair PER by the estimated EPS to determine the target stock price.\n",
    "\n",
    "\n",
    "Input:\n",
    "“What do you think will happen to Samsung Electronic’s stock price?”\n",
    "\n",
    "Output:\n",
    "\n",
    "1.\tCalculate the fair PER of Samsung Electronic by analyzing the growth rates and PERs of companies in the semiconductor sector.\n",
    "2.\tEstimate next year’s EPS for Samsung Electronic by considering the semiconductor market conditions, macroeconomic environment, and the company’s current performance.\n",
    "3.\tMultiply the fair PER by the estimated EPS to determine the target stock price.\n",
    "\n",
    "\n",
    "# Notes\n",
    "\n",
    "- Ensure the improved question is concise and contextually relevant.\n",
    "- Avoid altering the fundamental intent or meaning of the original question.\n",
    "\n",
    "\n",
    "[REMEMBER] Re-written question should be in the same language as the original question.\n",
    "\n",
    "# Here is the original question that needs to be rewritten:\n",
    "{question}\n",
    "\"\"\",\n",
    "input_variables=[\"question\"],\n",
    ")\n",
    "\n",
    "question_rewriter=(\n",
    "    re_write_prompt | ChatOpenAI(model=\"gpt-4o-mini\", temperature=0) | StrOutputParser()    \n",
    ")"
   ]
  },
  {
   "cell_type": "code",
   "execution_count": null,
   "metadata": {},
   "outputs": [],
   "source": [
    "# 질문 재작성\n",
    "question = \"SK하이닉스의 주가가 어떻게 될거 같아?\"\n",
    "\n",
    "question_rewriter.invoke({\"question\": question})"
   ]
  },
  {
   "cell_type": "code",
   "execution_count": null,
   "metadata": {},
   "outputs": [],
   "source": [
    "# 질문 재작성\n",
    "question = \"삼성전자의 주가가 어떻게 될거 같아?\"\n",
    "\n",
    "question_rewriter.invoke({\"question\": question})"
   ]
  },
  {
   "cell_type": "code",
   "execution_count": null,
   "metadata": {},
   "outputs": [],
   "source": [
    "# 질문 재작성\n",
    "question = \"DB하이텍의 주가가 어떻게 될거 같아?\"\n",
    "\n",
    "question_rewriter.invoke({\"question\": question})"
   ]
  },
  {
   "cell_type": "code",
   "execution_count": 5,
   "metadata": {},
   "outputs": [],
   "source": [
    "# Query Rewrite 노드\n",
    "def query_rewrite(state: GraphState) -> GraphState:\n",
    "    latest_question = state[\"question\"][-1].content\n",
    "    question_rewritten = question_rewriter.invoke({\"question\": latest_question})\n",
    "    return GraphState(question=question_rewritten)"
   ]
  },
  {
   "cell_type": "code",
   "execution_count": 6,
   "metadata": {},
   "outputs": [],
   "source": [
    "def query_decomposer(state: GraphState) -> GraphState:\n",
    "    question = state[\"question\"][-1].content\n",
    "    question_1 = question.split('\\n')[0]\n",
    "    question_2 = question.split('\\n')[1]\n",
    "    question_3 = question.split('\\n')[2]\n",
    "    return GraphState(question_decomposed_1=question_1, question_decomposed_2=question_2, question_decomposed_3=question_3)"
   ]
  },
  {
   "cell_type": "code",
   "execution_count": null,
   "metadata": {},
   "outputs": [],
   "source": [
    "test_state = GraphState(question=['1. SK하이닉스의 공정 PER을 계산하기 위해 반도체 산업 내 기업들의 성장률과 PER을 분석할 수 있는가?\\n2. SK하이닉스의 내년 EPS를 추정하기 위해 반도체 시장 상황, 거시경제 환경, 그리고 회사의 현재 성과를 고려할 수 있는가?\\n3. 공정 PER에 내년 EPS를 곱하여 SK하이닉스의 목표 주가를 산출할 수 있는가?'\n",
    "])\n",
    "\n",
    "query_decomposer(test_state)"
   ]
  },
  {
   "cell_type": "code",
   "execution_count": 7,
   "metadata": {},
   "outputs": [],
   "source": [
    "find_sector_and_company_prompt = PromptTemplate(\n",
    "    template = \"\"\"\n",
    "역할:\n",
    "당신은 베테랑 프롬프트 엔지니어로, 대형 언어 모델(LLM)이 최상의 성능을 발휘할 수 있도록 프롬프트를 최적화하는 데 능숙합니다.\n",
    "\n",
    "작업:\n",
    "주어진 질문에서 언급된 회사명과 섹터를 각각 추출하여 다음 형식으로 출력하십시오.\n",
    "\n",
    "출력 형식:\n",
    "\t•\t회사명,섹터 형태로 응답하십시오.\n",
    "\t•\t회사명과 섹터 이외의 정보는 포함하지 마십시오.\n",
    "\t•\t따옴표(””)는 반드시 포함하지 말고 출력하십시오.\n",
    "\n",
    "예시:\n",
    "\n",
    "입력:\n",
    "\n",
    "\"1. DB하이텍의 공정 PER을 계산하기 위해 반도체 산업 내 유사 기업들의 성장률과 PER을 분석하라.\"\n",
    "\n",
    "출력:\n",
    "\n",
    "DB하이텍,반도체\n",
    "\n",
    "입력:\n",
    "\n",
    "\"1. 삼성전자의 PER을 계산하기 위해 반도체 산업 내 다른 기업들의 성장률과 PER을 분석하라.\"\n",
    "\n",
    "출력:\n",
    "\n",
    "삼성전자,반도체\n",
    "\n",
    "추가 예시:\n",
    "\n",
    "입력:\n",
    "\n",
    "\"1. 현대자동차의 시장 점유율을 평가하기 위해 자동차 산업 내 경쟁사의 판매 데이터를 분석하라.\"\n",
    "\n",
    "출력:\n",
    "\n",
    "현대자동차,자동차\n",
    "\n",
    "입력:\n",
    "\n",
    "\"1. 네이버의 사용자 증가율을 측정하기 위해 IT 섹터 내 다른 플랫폼의 성장률과 사용자 수를 비교하라.\"\n",
    "\n",
    "출력:\n",
    "\n",
    "네이버,IT\n",
    "\n",
    "\n",
    "# 다음 질문에 대해서 회사명과 섹터를 각각 추출하시오.\n",
    "{question_decomposed_1}\n",
    "\"\"\",\n",
    "input_variables=[\"question_decomposed_1\"],\n",
    ")\n",
    "\n",
    "finder_sector_and_company=(\n",
    "    find_sector_and_company_prompt | ChatOpenAI(model=\"gpt-4o-mini\", temperature=0) | StrOutputParser()    \n",
    ")"
   ]
  },
  {
   "cell_type": "code",
   "execution_count": 8,
   "metadata": {},
   "outputs": [
    {
     "data": {
      "text/plain": [
       "'SK하이닉스,반도체'"
      ]
     },
     "execution_count": 8,
     "metadata": {},
     "output_type": "execute_result"
    }
   ],
   "source": [
    "finder_sector_and_company.invoke({\"question_decomposed_1\":\"1.\\tSK하이닉스의 공정 PER을 계산하기 위해 반도체 산업 내 다른 기업들의 성장률과 PER을 분석할 수 있는가?\"})"
   ]
  },
  {
   "cell_type": "code",
   "execution_count": 9,
   "metadata": {},
   "outputs": [],
   "source": [
    "def find_sector_and_company(state:GraphState)->GraphState:\n",
    "    question_decomposed_1=state[\"question_decomposed_1\"]\n",
    "    sector_and_company = finder_sector_and_company.invoke({\"question_decomposed_1\":question_decomposed_1})\n",
    "    company, sector = sector_and_company.split(\",\")\n",
    "    return GraphState(company=company, sector=sector)"
   ]
  },
  {
   "cell_type": "code",
   "execution_count": 10,
   "metadata": {},
   "outputs": [],
   "source": [
    "import yfinance as yf\n",
    "from yahooquery import search\n",
    "from deep_translator import GoogleTranslator\n",
    "import pandas as pd\n",
    "\n",
    "semiconductor_tickers = [\n",
    "    'INTC',    # Intel Corporation\n",
    "    'NVDA',    # NVIDIA Corporation\n",
    "    'AMD',     # Advanced Micro Devices, Inc.\n",
    "    'TXN',     # Texas Instruments Incorporated\n",
    "    'AVGO',    # Broadcom Inc.\n",
    "    'QCOM',    # Qualcomm Incorporated\n",
    "    'ASML',    # ASML Holding N.V.\n",
    "    'MU',      # Micron Technology, Inc.\n",
    "    'LRCX',    # Lam Research Corporation\n",
    "    'TSM',     # Taiwan Semiconductor Manufacturing Company Limited\n",
    "    '005930.KS' # 삼성전자\n",
    "]\n",
    "\n",
    "# 사전 매핑 (특정 기업의 경우 수동 매핑)\n",
    "manual_mapping = {\n",
    "    \"삼성전자\": \"005930.KS\",\n",
    "    # 추가적인 기업 매핑이 필요하다면 여기에 추가\n",
    "}\n",
    "\n",
    "def get_ticker(company_name):\n",
    "    try:\n",
    "        # 사전 매핑 확인\n",
    "        # if company_name in manual_mapping:\n",
    "        #     return manual_mapping[company_name]\n",
    "        \n",
    "        # 회사명을 영어로 번역\n",
    "        translated = GoogleTranslator(source='auto', target='en').translate(company_name)\n",
    "        print(f\"Translated company name: {translated}\")\n",
    "        \n",
    "        # 번역된 이름으로 검색\n",
    "        results = search(translated)\n",
    "        if results is not None and 'quotes' in results and len(results['quotes']) > 0:\n",
    "            # 첫 번째 결과의 티커 반환\n",
    "            return results['quotes'][0]['symbol']\n",
    "        else:\n",
    "            print(f\"No ticker found for {company_name} after translation.\")\n",
    "            return None\n",
    "    except Exception as e:\n",
    "        print(f\"Error translating or searching for {company_name}: {e}\")\n",
    "        return None\n",
    "\n",
    "\n",
    "def estimate_PER(state:GraphState)->GraphState:\n",
    "    target_company_ori = state[\"company\"]\n",
    "    sector = state.get('sector', \"\")\n",
    "    \n",
    "    if sector == \"반도체\":\n",
    "        tickers = semiconductor_tickers\n",
    "    else:\n",
    "        print(f\"지원되지 않는 섹터: {sector}\")\n",
    "        return\n",
    "    \n",
    "    # PER 및 성장률 데이터를 저장할 리스트 생성\n",
    "    per_list = []\n",
    "    growth_list = []\n",
    "    \n",
    "    for ticker in tickers:\n",
    "        try:\n",
    "            company = yf.Ticker(ticker)\n",
    "            info = company.info\n",
    "            \n",
    "            # Trailing PER 가져오기\n",
    "            trailing_pe = info.get('trailingPE', None)\n",
    "            \n",
    "            # 매출 성장률 계산 (최근 2년 간 매출 비교)\n",
    "            financials = company.financials\n",
    "            if 'Total Revenue' in financials.index:\n",
    "                revenue = financials.loc['Total Revenue']\n",
    "                revenue_sorted = revenue.sort_index(ascending=True)\n",
    "                if len(revenue_sorted) >= 2:\n",
    "                    growth_rate = (revenue_sorted.iloc[-1] - revenue_sorted.iloc[-2]) / revenue_sorted.iloc[-2] * 100\n",
    "                else:\n",
    "                    growth_rate = None\n",
    "            else:\n",
    "                growth_rate = None\n",
    "            \n",
    "            # 리스트에 추가\n",
    "            per_list.append({'Ticker': ticker, 'TrailingPE': trailing_pe})\n",
    "            growth_list.append({'Ticker': ticker, 'RevenueGrowth': growth_rate})\n",
    "        \n",
    "        except Exception as e:\n",
    "            print(f\"Error fetching data for {ticker}: {e}\")\n",
    "    \n",
    "    # 리스트를 DataFrame으로 변환\n",
    "    per_data = pd.DataFrame(per_list)\n",
    "    growth_data = pd.DataFrame(growth_list)\n",
    "    \n",
    "    # 유효한 PER과 성장률 데이터 필터링\n",
    "    valid_per = per_data['TrailingPE'].dropna()\n",
    "    valid_growth = growth_data['RevenueGrowth'].dropna()\n",
    "    \n",
    "    # 섹터 평균 PER과 평균 매출 성장률 계산\n",
    "    sector_average_per = valid_per.mean()\n",
    "    sector_average_growth = valid_growth.mean()\n",
    "    \n",
    "    print(f\"반도체 섹터 평균 PER: {sector_average_per:.2f}\")\n",
    "    print(f\"반도체 섹터 평균 매출 성장률: {sector_average_growth:.2f}%\")\n",
    "    \n",
    "    # 특정 기업의 PER 추정\n",
    "    # 삼성전자는 이미 티커 리스트에 포함되어 있으므로 직접 사용\n",
    "    target_ticker = get_ticker(target_company_ori)  # 삼성전자의 티커\n",
    "    \n",
    "    try:\n",
    "        target_company = yf.Ticker(target_ticker)\n",
    "        target_info = target_company.info\n",
    "        target_pe = target_info.get('trailingPE', None)\n",
    "        \n",
    "        # 매출 성장률 계산\n",
    "        if 'Total Revenue' in target_company.financials.index:\n",
    "            target_financials = target_company.financials\n",
    "            target_revenue = target_financials.loc['Total Revenue']\n",
    "            target_revenue_sorted = target_revenue.sort_index(ascending=True)\n",
    "            if len(target_revenue_sorted) >= 2:\n",
    "                target_growth = (target_revenue_sorted.iloc[-1] - target_revenue_sorted.iloc[-2]) / target_revenue_sorted.iloc[-2] * 100\n",
    "            else:\n",
    "                target_growth = None\n",
    "        else:\n",
    "            target_growth = None\n",
    "        \n",
    "        print(f\"{target_ticker}의 매출 성장률: {target_growth:.2f}%\")\n",
    "        \n",
    "        if target_growth is not None and sector_average_growth != 0:\n",
    "            # PER 추정\n",
    "            estimated_per = sector_average_per * (target_growth / sector_average_growth)\n",
    "            print(f\"{target_ticker}의 추정 PER: {estimated_per:.2f}\")\n",
    "        else:\n",
    "            print(f\"{target_ticker}의 PER을 추정할 수 없습니다.\")\n",
    "        return GraphState(answer=estimated_per)        \n",
    "    except Exception as e:\n",
    "        print(f\"Error fetching data for {target_ticker}: {e}\")"
   ]
  },
  {
   "cell_type": "code",
   "execution_count": null,
   "metadata": {},
   "outputs": [],
   "source": [
    "test_state = GraphState(company=\"삼성전자\",sector=\"반도체\")\n",
    "estimate_PER(test_state)"
   ]
  },
  {
   "cell_type": "code",
   "execution_count": 11,
   "metadata": {},
   "outputs": [],
   "source": [
    "from langgraph.graph import END, StateGraph\n",
    "from langgraph.checkpoint.memory import MemorySaver"
   ]
  },
  {
   "cell_type": "code",
   "execution_count": 12,
   "metadata": {},
   "outputs": [],
   "source": [
    "workflow = StateGraph(GraphState)"
   ]
  },
  {
   "cell_type": "code",
   "execution_count": 13,
   "metadata": {},
   "outputs": [
    {
     "data": {
      "text/plain": [
       "<langgraph.graph.state.StateGraph at 0x11c46b8d0>"
      ]
     },
     "execution_count": 13,
     "metadata": {},
     "output_type": "execute_result"
    }
   ],
   "source": [
    "workflow.add_node(\"query_rewrite\", query_rewrite)\n",
    "workflow.add_node(\"query_decomposer\", query_decomposer)\n",
    "workflow.add_node(\"find_sector_and_company\", find_sector_and_company)\n",
    "workflow.add_node(\"estimate_PER\",estimate_PER)"
   ]
  },
  {
   "cell_type": "code",
   "execution_count": 14,
   "metadata": {},
   "outputs": [
    {
     "data": {
      "text/plain": [
       "<langgraph.graph.state.StateGraph at 0x11c46b8d0>"
      ]
     },
     "execution_count": 14,
     "metadata": {},
     "output_type": "execute_result"
    }
   ],
   "source": [
    "workflow.add_edge(\"query_rewrite\", \"query_decomposer\")\n",
    "workflow.add_edge(\"query_decomposer\", \"find_sector_and_company\")\n",
    "workflow.add_edge(\"find_sector_and_company\",\"estimate_PER\")\n",
    "workflow.add_edge(\"estimate_PER\",END)"
   ]
  },
  {
   "cell_type": "code",
   "execution_count": 15,
   "metadata": {},
   "outputs": [],
   "source": [
    "workflow.set_entry_point(\"query_rewrite\")\n",
    "memory = MemorySaver()\n",
    "# 그래프 컴파일\n",
    "app = workflow.compile(checkpointer=memory)"
   ]
  },
  {
   "cell_type": "code",
   "execution_count": 16,
   "metadata": {},
   "outputs": [
    {
     "data": {
      "image/png": "[encoded data removed]",
      "text/plain": [
       "<IPython.core.display.Image object>"
      ]
     },
     "metadata": {},
     "output_type": "display_data"
    }
   ],
   "source": [
    "from langchain_teddynote.graphs import visualize_graph\n",
    "\n",
    "visualize_graph(app)"
   ]
  },
  {
   "cell_type": "code",
   "execution_count": 17,
   "metadata": {},
   "outputs": [
    {
     "name": "stdout",
     "output_type": "stream",
     "text": [
      "\n",
      "==================================================\n",
      "🔄 Node: \u001b[1;36mquery_rewrite\u001b[0m 🔄\n",
      "- - - - - - - - - - - - - - - - - - - - - - - - - \n",
      "1. SK하이닉스의 공정 PER을 계산하기 위해 반도체 산업 내 기업들의 성장률과 PER을 분석할 수 있는가?\n",
      "2. SK하이닉스의 내년 EPS를 추정하기 위해 반도체 시장 상황, 거시경제 환경, 그리고 회사의 현재 성과를 고려할 수 있는가?\n",
      "3. 공정 PER에 내년 EPS를 곱하여 SK하이닉스의 목표 주가를 산출할 수 있는가?반도체 섹터 평균 PER: 66.04\n",
      "반도체 섹터 평균 매출 성장률: 15.50%\n",
      "Translated company name: SK Hynix\n",
      "000660.KS의 매출 성장률: -38.06%\n",
      "000660.KS의 추정 PER: -162.13\n"
     ]
    }
   ],
   "source": [
    "from langchain_core.runnables import RunnableConfig\n",
    "from langchain_teddynote.messages import stream_graph, random_uuid\n",
    "\n",
    "# config 설정(재귀 최대 횟수, thread_id)\n",
    "config = RunnableConfig(recursion_limit=10, configurable={\"thread_id\": random_uuid()})\n",
    "\n",
    "# 질문 입력\n",
    "inputs = GraphState(question=\"SK하이닉스의 주가가 어떻게 될것 같아?\")\n",
    "\n",
    "# 그래프 실행\n",
    "stream_graph(app, inputs, config, [\"query_rewrite\", \"estimate_PER\"])"
   ]
  },
  {
   "cell_type": "code",
   "execution_count": 47,
   "metadata": {},
   "outputs": [],
   "source": [
    "outputs = app.get_state(config).values"
   ]
  },
  {
   "cell_type": "code",
   "execution_count": null,
   "metadata": {},
   "outputs": [],
   "source": [
    "outputs[\"question_decomposed_1\"]"
   ]
  },
  {
   "cell_type": "code",
   "execution_count": null,
   "metadata": {},
   "outputs": [],
   "source": []
  }
 ],
 "metadata": {
  "kernelspec": {
   "display_name": "langgraph-agent-BVoR3L7Q-py3.11",
   "language": "python",
   "name": "python3"
  },
  "language_info": {
   "codemirror_mode": {
    "name": "ipython",
    "version": 3
   },
   "file_extension": ".py",
   "mimetype": "text/x-python",
   "name": "python",
   "nbconvert_exporter": "python",
   "pygments_lexer": "ipython3",
   "version": "3.11.9"
  }
 },
 "nbformat": 4,
 "nbformat_minor": 2
}
